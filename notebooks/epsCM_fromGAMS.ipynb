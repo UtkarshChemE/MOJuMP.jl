{
 "cells": [
  {
   "cell_type": "markdown",
   "metadata": {},
   "source": [
    "Load the packages required to define `JuMP` model"
   ]
  },
  {
   "cell_type": "code",
   "execution_count": 1,
   "metadata": {},
   "outputs": [
    {
     "name": "stdout",
     "output_type": "stream",
     "text": [
      "Academic license - for non-commercial use only\n"
     ]
    }
   ],
   "source": [
    "using JuMP\n",
    "import Gurobi; const GRB_ENV = Gurobi.Env();"
   ]
  },
  {
   "cell_type": "markdown",
   "metadata": {},
   "source": [
    "The function creates a model with 3 objectives"
   ]
  },
  {
   "cell_type": "code",
   "execution_count": 2,
   "metadata": {},
   "outputs": [
    {
     "data": {
      "text/plain": [
       "create_eps_model (generic function with 1 method)"
      ]
     },
     "execution_count": 2,
     "metadata": {},
     "output_type": "execute_result"
    }
   ],
   "source": [
    "function create_eps_model()\n",
    "    Annual_Demand = 64000.0\n",
    "    df = [0.6, 0.3, 0.1]\n",
    "    demand = df .* 64000.0\n",
    "    pData = [31000 15000 22000 10000; 30 75 60 90; 1.44 0.72 0.45 0]\n",
    "    PLset = collect(Iterators.product(1:4, 1:3))[[2,8,9]]\n",
    "    m = Model(optimizer_with_attributes(() -> Gurobi.Optimizer(GRB_ENV), \n",
    "            \"NonConvex\" => 1, \"OutputFlag\" => 0))\n",
    "    @variables(m, begin\n",
    "            x[1:4,1:3] ≥ 0\n",
    "            Z[1:3]\n",
    "    end)\n",
    "\n",
    "    @constraints(m, begin\n",
    "                objcost, sum(pData[2,:]'*x) == Z[1]\n",
    "                objCO2, sum(pData[3,:]'*x) == Z[2]\n",
    "                objEndo, sum(x[[1,4],:]) == -Z[3]\n",
    "                xzero_set[p=1:4,l=1:3; (p,l) in PLset], x[p,l] == 0\n",
    "                defcap, sum(x; dims=2) .≤ pData[1, :]\n",
    "                defdem, sum(x; dims=1)[:] .≥ demand\n",
    "    end)\n",
    "    return m, Z\n",
    "end"
   ]
  },
  {
   "cell_type": "code",
   "execution_count": 3,
   "metadata": {},
   "outputs": [],
   "source": [
    "m, Z = create_eps_model();"
   ]
  },
  {
   "cell_type": "markdown",
   "metadata": {},
   "source": [
    "Calling on `MOJuMP` to use `eff_pareto` function and finding pareto optimal points.\n",
    "\n",
    "> Notice how some warning are being thrown. This means that corresponding points may not be pareto optimal and needs to be inspected further"
   ]
  },
  {
   "cell_type": "code",
   "execution_count": 4,
   "metadata": {},
   "outputs": [
    {
     "name": "stdout",
     "output_type": "stream",
     "text": [
      "\u001b[32m\u001b[1mActivating\u001b[22m\u001b[39m environment at `~/MOJuMP/Project.toml`\n"
     ]
    },
    {
     "name": "stderr",
     "output_type": "stream",
     "text": [
      "┌ Warning: Slack not zero for eps=[47340.0, -32250.0]\n",
      "└ @ MOJuMP /home/ushah/MOJuMP/src/MOJuMP.jl:107\n",
      "┌ Warning: Slack not zero for eps=[48420.0, -36625.0]\n",
      "└ @ MOJuMP /home/ushah/MOJuMP/src/MOJuMP.jl:107\n",
      "┌ Warning: Slack not zero for eps=[50579.99999999999, -38375.0]\n",
      "└ @ MOJuMP /home/ushah/MOJuMP/src/MOJuMP.jl:107\n",
      "┌ Warning: Slack not zero for eps=[51659.99999999999, 3.3675e6]\n",
      "└ @ MOJuMP /home/ushah/MOJuMP/src/MOJuMP.jl:126\n",
      "┌ Warning: Slack not zero for eps=[55979.99999999999, 3.1725e6]\n",
      "└ @ MOJuMP /home/ushah/MOJuMP/src/MOJuMP.jl:126\n"
     ]
    }
   ],
   "source": [
    "import Pkg; Pkg.activate(\"../.\")\n",
    "using MOJuMP\n",
    "\n",
    "pareto, _ = eff_pareto(m, Z);"
   ]
  },
  {
   "cell_type": "markdown",
   "metadata": {},
   "source": [
    "This part is just to print the results in a pretty manner"
   ]
  },
  {
   "cell_type": "code",
   "execution_count": 5,
   "metadata": {},
   "outputs": [
    {
     "data": {
      "text/html": [
       "<table class=\"data-frame\"><thead><tr><th></th><th>x1</th><th>x2</th><th>x3</th></tr><tr><th></th><th>Float64</th><th>Float64</th><th>Float64</th></tr></thead><tbody><p>26 rows × 3 columns</p><tr><th>1</th><td>3.315e6</td><td>53820.0</td><td>-39000.0</td></tr><tr><th>2</th><td>3.1725e6</td><td>57780.0</td><td>-37500.0</td></tr><tr><th>3</th><td>3.585e6</td><td>49500.0</td><td>-33000.0</td></tr><tr><th>4</th><td>3.45e6</td><td>51660.0</td><td>-36000.0</td></tr><tr><th>5</th><td>3.12e6</td><td>60300.0</td><td>-34000.0</td></tr><tr><th>6</th><td>3.21e6</td><td>55980.0</td><td>-40000.0</td></tr><tr><th>7</th><td>3.72e6</td><td>47340.0</td><td>-30000.0</td></tr><tr><th>8</th><td>3.6525e6</td><td>48420.0</td><td>-31500.0</td></tr><tr><th>9</th><td>3.1875e6</td><td>57060.0</td><td>-38500.0</td></tr><tr><th>10</th><td>3.21188e6</td><td>55890.0</td><td>-40125.0</td></tr><tr><th>11</th><td>3.3825e6</td><td>52740.0</td><td>-37500.0</td></tr><tr><th>12</th><td>3.5175e6</td><td>50580.0</td><td>-34500.0</td></tr><tr><th>13</th><td>3.1425e6</td><td>59220.0</td><td>-35500.0</td></tr><tr><th>14</th><td>3.2475e6</td><td>54900.0</td><td>-40500.0</td></tr><tr><th>15</th><td>3.315e6</td><td>53820.0</td><td>-39000.0</td></tr><tr><th>16</th><td>3.225e6</td><td>55260.0</td><td>-41000.0</td></tr><tr><th>17</th><td>3.585e6</td><td>49500.0</td><td>-33000.0</td></tr><tr><th>18</th><td>3.45e6</td><td>51660.0</td><td>-36000.0</td></tr><tr><th>19</th><td>3.225e6</td><td>55260.0</td><td>-41000.0</td></tr><tr><th>20</th><td>3.1725e6</td><td>57780.0</td><td>-37500.0</td></tr><tr><th>21</th><td>3.075e6</td><td>62460.0</td><td>-31000.0</td></tr><tr><th>22</th><td>3.075e6</td><td>62460.0</td><td>-31000.0</td></tr><tr><th>23</th><td>3.855e6</td><td>45180.0</td><td>-27000.0</td></tr><tr><th>24</th><td>3.855e6</td><td>45180.0</td><td>-27000.0</td></tr><tr><th>25</th><td>3.225e6</td><td>55260.0</td><td>-41000.0</td></tr><tr><th>26</th><td>3.225e6</td><td>55260.0</td><td>-41000.0</td></tr></tbody></table>"
      ],
      "text/latex": [
       "\\begin{tabular}{r|ccc}\n",
       "\t& x1 & x2 & x3\\\\\n",
       "\t\\hline\n",
       "\t& Float64 & Float64 & Float64\\\\\n",
       "\t\\hline\n",
       "\t1 & 3.315e6 & 53820.0 & -39000.0 \\\\\n",
       "\t2 & 3.1725e6 & 57780.0 & -37500.0 \\\\\n",
       "\t3 & 3.585e6 & 49500.0 & -33000.0 \\\\\n",
       "\t4 & 3.45e6 & 51660.0 & -36000.0 \\\\\n",
       "\t5 & 3.12e6 & 60300.0 & -34000.0 \\\\\n",
       "\t6 & 3.21e6 & 55980.0 & -40000.0 \\\\\n",
       "\t7 & 3.72e6 & 47340.0 & -30000.0 \\\\\n",
       "\t8 & 3.6525e6 & 48420.0 & -31500.0 \\\\\n",
       "\t9 & 3.1875e6 & 57060.0 & -38500.0 \\\\\n",
       "\t10 & 3.21188e6 & 55890.0 & -40125.0 \\\\\n",
       "\t11 & 3.3825e6 & 52740.0 & -37500.0 \\\\\n",
       "\t12 & 3.5175e6 & 50580.0 & -34500.0 \\\\\n",
       "\t13 & 3.1425e6 & 59220.0 & -35500.0 \\\\\n",
       "\t14 & 3.2475e6 & 54900.0 & -40500.0 \\\\\n",
       "\t15 & 3.315e6 & 53820.0 & -39000.0 \\\\\n",
       "\t16 & 3.225e6 & 55260.0 & -41000.0 \\\\\n",
       "\t17 & 3.585e6 & 49500.0 & -33000.0 \\\\\n",
       "\t18 & 3.45e6 & 51660.0 & -36000.0 \\\\\n",
       "\t19 & 3.225e6 & 55260.0 & -41000.0 \\\\\n",
       "\t20 & 3.1725e6 & 57780.0 & -37500.0 \\\\\n",
       "\t21 & 3.075e6 & 62460.0 & -31000.0 \\\\\n",
       "\t22 & 3.075e6 & 62460.0 & -31000.0 \\\\\n",
       "\t23 & 3.855e6 & 45180.0 & -27000.0 \\\\\n",
       "\t24 & 3.855e6 & 45180.0 & -27000.0 \\\\\n",
       "\t25 & 3.225e6 & 55260.0 & -41000.0 \\\\\n",
       "\t26 & 3.225e6 & 55260.0 & -41000.0 \\\\\n",
       "\\end{tabular}\n"
      ],
      "text/plain": [
       "26×3 DataFrame\n",
       "│ Row │ x1        │ x2      │ x3       │\n",
       "│     │ \u001b[90mFloat64\u001b[39m   │ \u001b[90mFloat64\u001b[39m │ \u001b[90mFloat64\u001b[39m  │\n",
       "├─────┼───────────┼─────────┼──────────┤\n",
       "│ 1   │ 3.315e6   │ 53820.0 │ -39000.0 │\n",
       "│ 2   │ 3.1725e6  │ 57780.0 │ -37500.0 │\n",
       "│ 3   │ 3.585e6   │ 49500.0 │ -33000.0 │\n",
       "│ 4   │ 3.45e6    │ 51660.0 │ -36000.0 │\n",
       "│ 5   │ 3.12e6    │ 60300.0 │ -34000.0 │\n",
       "│ 6   │ 3.21e6    │ 55980.0 │ -40000.0 │\n",
       "│ 7   │ 3.72e6    │ 47340.0 │ -30000.0 │\n",
       "│ 8   │ 3.6525e6  │ 48420.0 │ -31500.0 │\n",
       "│ 9   │ 3.1875e6  │ 57060.0 │ -38500.0 │\n",
       "│ 10  │ 3.21188e6 │ 55890.0 │ -40125.0 │\n",
       "⋮\n",
       "│ 16  │ 3.225e6   │ 55260.0 │ -41000.0 │\n",
       "│ 17  │ 3.585e6   │ 49500.0 │ -33000.0 │\n",
       "│ 18  │ 3.45e6    │ 51660.0 │ -36000.0 │\n",
       "│ 19  │ 3.225e6   │ 55260.0 │ -41000.0 │\n",
       "│ 20  │ 3.1725e6  │ 57780.0 │ -37500.0 │\n",
       "│ 21  │ 3.075e6   │ 62460.0 │ -31000.0 │\n",
       "│ 22  │ 3.075e6   │ 62460.0 │ -31000.0 │\n",
       "│ 23  │ 3.855e6   │ 45180.0 │ -27000.0 │\n",
       "│ 24  │ 3.855e6   │ 45180.0 │ -27000.0 │\n",
       "│ 25  │ 3.225e6   │ 55260.0 │ -41000.0 │\n",
       "│ 26  │ 3.225e6   │ 55260.0 │ -41000.0 │"
      ]
     },
     "execution_count": 5,
     "metadata": {},
     "output_type": "execute_result"
    }
   ],
   "source": [
    "using DataFrames\n",
    "pareto |> DataFrame"
   ]
  }
 ],
 "metadata": {
  "kernelspec": {
   "display_name": "Julia 1.3.1",
   "language": "julia",
   "name": "julia-1.3"
  },
  "language_info": {
   "file_extension": ".jl",
   "mimetype": "application/julia",
   "name": "julia",
   "version": "1.3.1"
  }
 },
 "nbformat": 4,
 "nbformat_minor": 4
}
